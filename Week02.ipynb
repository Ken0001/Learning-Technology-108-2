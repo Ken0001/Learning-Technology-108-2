{
 "cells": [
  {
   "cell_type": "markdown",
   "metadata": {},
   "source": [
    "## Week 02\n",
    "### HW1\n",
    "```\n",
    "假設1美金可以兌換30.5元台幣，請寫一程式計算美金換算台幣？ 分別輸出四種不同的格式。\n",
    "\n",
    "範例輸入：\n",
    "\n",
    "500\n",
    "\n",
    "範例輸出：\n",
    "\n",
    "15250.0\n",
    "\n",
    "15250.0 yuan\n",
    "\n",
    "500 US dollars is 15250.0 yuan Taiwan dollars\n",
    "\n",
    "500 US dollars = 15250.0 yuan Taiwan dollars\n",
    "```"
   ]
  },
  {
   "cell_type": "code",
   "execution_count": 6,
   "metadata": {},
   "outputs": [
    {
     "name": "stdout",
     "output_type": "stream",
     "text": [
      "500\n",
      "15250.0\n",
      "15250.0 yuan\n",
      "500 US dollars is 15250.0 yuan Taiwan dollars\n",
      "500 US dollars =  15250.0 yuan Taiwan dollars\n"
     ]
    }
   ],
   "source": [
    "us = input()\n",
    "tw = float(us)*30.5\n",
    "print(tw)\n",
    "print(str(tw)+\" yuan\")\n",
    "print(str(us)+ \" US dollars is \" +str(tw)+\" yuan Taiwan dollars\")\n",
    "print(str(us)+ \" US dollars =  \" +str(tw)+\" yuan Taiwan dollars\")"
   ]
  },
  {
   "cell_type": "markdown",
   "metadata": {},
   "source": [
    "### HW2\n",
    "```\n",
    "請寫一程式，引導使用者輸入中文、英文、數學、和程式 設計四科的成績，並顯示四科的總分，以及平均成績\n",
    "\n",
    "範例輸入：\n",
    "\n",
    "80\n",
    "\n",
    "80\n",
    "\n",
    "90\n",
    "\n",
    "90\n",
    "\n",
    "範例輸出：\n",
    "\n",
    "340\n",
    "\n",
    "85.0\n",
    "```\n"
   ]
  },
  {
   "cell_type": "code",
   "execution_count": 18,
   "metadata": {},
   "outputs": [
    {
     "name": "stdout",
     "output_type": "stream",
     "text": [
      "國文80\n",
      "英文80\n",
      "數學9\n",
      "程式設計90\n",
      "總分 259\n",
      "平均 64.75\n"
     ]
    }
   ],
   "source": [
    "class_list = ['國文','英文','數學','程式設計']\n",
    "score_list = []\n",
    "for i in range(4):\n",
    "    score_list.append(int(input(class_list[i])))\n",
    "\n",
    "score_sum = sum(score_list)\n",
    "print(f\"總分 {score_sum}\\n平均 {score_sum/4}\")"
   ]
  },
  {
   "cell_type": "markdown",
   "metadata": {},
   "source": [
    "### HW3\n",
    "```\n",
    "輸入一英文字，顯示它是英文的第幾個字母 ➢ 輸入身份證字號，並將第一個英文字母改為對應的數字 \n",
    "\n",
    "範例輸入：\n",
    "\n",
    "B153360395 \n",
    "\n",
    "範例輸出：\n",
    "\n",
    "02153360395\n",
    "```"
   ]
  },
  {
   "cell_type": "code",
   "execution_count": 28,
   "metadata": {},
   "outputs": [
    {
     "name": "stdout",
     "output_type": "stream",
     "text": [
      "Z221586\n",
      "26221586\n"
     ]
    }
   ],
   "source": [
    "# in ascii A=65\n",
    "s = input()\n",
    "asc = ord(s[0])\n",
    "if asc<=75:\n",
    "    print(f\"0{asc-64}{s[1:]}\")\n",
    "else:\n",
    "    print(f\"{asc-64}{s[1:]}\")"
   ]
  }
 ],
 "metadata": {
  "kernelspec": {
   "display_name": "Python 3",
   "language": "python",
   "name": "python3"
  },
  "language_info": {
   "codemirror_mode": {
    "name": "ipython",
    "version": 3
   },
   "file_extension": ".py",
   "mimetype": "text/x-python",
   "name": "python",
   "nbconvert_exporter": "python",
   "pygments_lexer": "ipython3",
   "version": "3.7.4"
  }
 },
 "nbformat": 4,
 "nbformat_minor": 2
}
