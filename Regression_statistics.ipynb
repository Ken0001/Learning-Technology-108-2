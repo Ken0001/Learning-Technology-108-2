{
 "cells": [
  {
   "cell_type": "markdown",
   "metadata": {
    "collapsed": true
   },
   "source": [
    "# Correlation & Regression 相關與迴歸\n",
    "\n",
    "賴志宏 Chi-Hung Lai \n",
    "created date: 2019.05.07, Last modified date: 2019.11.09"
   ]
  },
  {
   "cell_type": "markdown",
   "metadata": {},
   "source": [
    "### 機器學習(machine learning)分為\n",
    "\n",
    "- 監督式學習 (supervised learning)\n",
    "- 非監督式學習 (unsupervised learning)\n",
    "- 半監督式學習 (semisupervised learning)\n",
    "- 增強學習 (reinforcement learning)  \n",
    "\n",
    "\n",
    "- [機器學習學習地圖](https://scikit-learn.org/stable/tutorial/machine_learning_map/index.html)"
   ]
  },
  {
   "cell_type": "markdown",
   "metadata": {},
   "source": [
    "### 監督式學習的問題基本上分成兩類\n",
    "\n",
    "* 迴歸問題：預測連續的回應資料，一種數值資料，我們可以預測商店的營業額、學生的身高和體重等。常用演算法有：線性迴歸、SVR等。\n",
    "* 分類問題：預測可分類的回應資料，這是一些有限集合，我們可以分類成男與女、成功與失敗、癌症分成第1~4期等。常用演算法有：Logistic迴歸、決策樹、K鄰近演算法、CART、樸素貝葉斯等。\n"
   ]
  },
  {
   "cell_type": "markdown",
   "metadata": {},
   "source": [
    "### 非監督式學習的問題基本上分成三類，如下所示：\n",
    "\n",
    "* 關聯：找出各種現象同時出現的機率，稱為購物籃分析（Market-basket Analysis）\n",
    " * 當顧客購買米時，78%可能會同時購買雞蛋。\n",
    "  * 常用演算法有：Apriori演算法等。\n",
    "* 分群：將樣本分成相似的群組\n",
    "  *這是資料如何組成的問題，可以幫助區分群出哪些喜歡同一類電影的觀眾。\n",
    "  * 常用演算法有：K-means演算法等。\n",
    "* 降維：減少資料集中變數的個數，但是仍然保留主要資訊而不失真，\n",
    " * 我們通常是使用特徵提取和選擇方法來實作。\n",
    " * 常用演算法有：主成分分析演算法等。\n"
   ]
  },
  {
   "cell_type": "markdown",
   "metadata": {},
   "source": [
    "* Scikit-learn是scikits.learn的正式名稱，\n",
    "* 一套支援Python 2和Python 3語言且完全免費的機器學習函數庫，\n",
    "* 內建多種迴歸、分類和分群等機器學習演算法，\n",
    "* 官方網址如下：http://scikit-learn.org/stable/\n"
   ]
  },
  {
   "cell_type": "code",
   "execution_count": null,
   "metadata": {},
   "outputs": [],
   "source": []
  },
  {
   "cell_type": "markdown",
   "metadata": {},
   "source": [
    "散佈圖的資料點可以幫助我們找出X和Y軸資料是正相關、負相關或無相關\n",
    "* 正相關（Positive Relation）：圖表顯示當一軸增加；同時另一軸也增加，資料排列成一條往右斜向上的直線，例如：身高增加；體重也同時增加\n",
    "<img src = \"images/positive_relation.jpg\" width = \"300\" height = \"100\">\n",
    "* 負相關（Negative Relation）：圖表顯示當一軸增加；同時另一軸卻減少，資料排列成一條往右斜向下的直線，例如：打手遊的時間增加；讀書的時間就會減少\n",
    "<img src = \"images/negative_relation.jpg\" width = \"300\" height = \"100\">\n",
    "* 無相關（No Relation）：圖表顯示的資料點十分分散，看不出有任何直線的趨勢，例如：學生身高和期中考成績\n",
    "<img src = \"images/zero_relation.jpg\" width = \"300\" height = \"100\">"
   ]
  },
  {
   "cell_type": "code",
   "execution_count": 8,
   "metadata": {},
   "outputs": [
    {
     "name": "stdout",
     "output_type": "stream",
     "text": [
      "    hours_phone_used  work_performance\n",
      "0                0.0                87\n",
      "1                0.0                89\n",
      "2                0.0                91\n",
      "3                1.0                90\n",
      "4                1.3                82\n",
      "5                1.5                80\n",
      "6                2.0                78\n",
      "7                2.2                81\n",
      "8                2.6                76\n",
      "9                3.2                85\n",
      "10               4.1                80\n",
      "11               4.4                75\n",
      "12               4.4                73\n",
      "13               5.0                72\n"
     ]
    },
    {
     "data": {
      "image/png": "[encoded data removed]",
      "text/plain": [
       "<Figure size 432x288 with 1 Axes>"
      ]
     },
     "metadata": {
      "needs_background": "light"
     },
     "output_type": "display_data"
    }
   ],
   "source": [
    "# ch13_1_1 revised\n",
    "# 手機使用時數和工作效率\n",
    "\n",
    "import pandas as pd\n",
    "%matplotlib inline \n",
    "hours_phone_used = [0,0,0,1,1.3,1.5,2,2.2,2.6,3.2,4.1,4.4,4.4,5]\n",
    "work_performance = [87,89,91,90,82,80,78,81,76,85,80,75,73,72]\n",
    "\n",
    "df = pd.DataFrame({\"hours_phone_used\":hours_phone_used,\n",
    "                   \"work_performance\":work_performance})\n",
    "\n",
    "df.plot(kind=\"scatter\", x=\"hours_phone_used\", y=\"work_performance\")\n",
    "\n",
    "print(df)"
   ]
  },
  {
   "cell_type": "markdown",
   "metadata": {},
   "source": [
    "## 共變數（Covariance）\n",
    "* 用來測量2個隨機變數之間的關係，特別是指線性關係的強弱\n",
    "* 變異數（Variance）可以告訴我們單一變數的離散程度\n",
    "* 共變異數多了「共」，可以呈現2個變數一起的離散程度。\n",
    "\n",
    "<img src = \"images/covariance_formula.jpg\" width = \"500\" height = \"200\" align=\"left\">\n",
    "<br /><br/>  \n",
    "  \n",
    "\n",
    "- 共變異數的判斷原則如下： \n",
    "     - 負相關：共變異數值小於0是負相關\n",
    "     - 正相關：共變異數值大於0是正相關\n",
    "     - 無相關：共變異數值約等於0，就是無相關"
   ]
  },
  {
   "cell_type": "code",
   "execution_count": 9,
   "metadata": {},
   "outputs": [
    {
     "name": "stdout",
     "output_type": "stream",
     "text": [
      "資料數: 14\n",
      "x平均: 2.264285714285714\n",
      "y平均: 81.35714285714286\n",
      "x偏差*y偏差和: -119.42142857142856\n",
      "共變異數: -8.530102040816326\n"
     ]
    }
   ],
   "source": [
    "# ch13_1_2\n",
    "\n",
    "import numpy as np\n",
    "\n",
    "hours_phone_used = [0,0,0,1,1.3,1.5,2,2.2,2.6,3.2,4.1,4.4,4.4,5]\n",
    "work_performance = [87,89,91,90,82,80,78,81,76,85,80,75,73,72]\n",
    "\n",
    "x = np.array(hours_phone_used)\n",
    "y = np.array(work_performance)\n",
    "n = len(x)\n",
    "x_mean = x.mean()\n",
    "y_mean = y.mean()\n",
    "print(\"資料數:\", n)\n",
    "print(\"x平均:\", x_mean)\n",
    "print(\"y平均:\", y_mean)\n",
    "\n",
    "diff = (x-x_mean)*(y-y_mean)\n",
    "print(\"x偏差*y偏差和:\", diff.sum())\n",
    "covar = diff.sum()/n\n",
    "print(\"共變異數:\", covar)"
   ]
  },
  {
   "cell_type": "code",
   "execution_count": null,
   "metadata": {},
   "outputs": [],
   "source": [
    "import math\n",
    "print(math.sqrt(15))\n",
    "print(math.sqrt(3) * math.sqrt(5))"
   ]
  },
  {
   "cell_type": "markdown",
   "metadata": {},
   "source": [
    "#### 用共變數來看兩個變數之間的關係\n",
    "* 限制：共變數的值和使用的單位有關，例如：體重和身高的關係，身高的值使用公分，和使用公尺的值會不一樣\n",
    "* 因此需要能夠有一個標準化的值，因此我們需要使用另一方式：以下介紹 \"相關係數\""
   ]
  },
  {
   "cell_type": "markdown",
   "metadata": {},
   "source": [
    "### 相關係數（Correlation Coefficient）\n",
    "* 也稱為<b>皮爾森積差相關係數（Pearson Product Moment Correlation Coefficient）</b>\n",
    "* 可以計算2個變數的線性相關性有多強\n",
    "* 其值的範圍是-1~1之間\n",
    "* 一種統計檢定方法，可以測量2個變數之間線性關係的強度和方向。\n",
    "* 相關係數的公式是x和y的共變異數除以x和y的標準差\n",
    "\n",
    "* 樣本的相關係數\n",
    "<br />\n",
    "<img src = \"images/relation_coefficient.jpg\" width = \"150\" height = \"80\" align=\"left\"> <br /> <br /> <br /> <br />\n",
    "<img src = \"images/r_fomula.png\" width = \"200\" height = \"100\" align=\"left\"> 註：分子與分母共同除以n\n",
    "<br /> <br /> <br /> <br /> <br /> <br />\n",
    "* 母體的相關係數，常用希臘小寫字母 ρ (rho) 作為代表符號\n",
    "<br />\n",
    "<img src = \"images/population_r.png\" width = \"300\" height = \"150\" align=\"left\">\n",
    "\n"
   ]
  },
  {
   "cell_type": "markdown",
   "metadata": {},
   "source": [
    "### 推導過程\n",
    "\n",
    "母數的變異數與共變數的不偏估計數的N要減1\n",
    "<pre>\n",
    "<img src = \"images/nonbias_var.png\" width = \"400\" height = \"150\" align=\"left\"> <br /> <br /> <br /> <br /><br /><br /> <br /><br />\n",
    "\n",
    "<img src = \"images/r_formula2.png\" width = \"300\" height = \"150\" align=\"left\">"
   ]
  },
  {
   "cell_type": "markdown",
   "metadata": {},
   "source": [
    "### 因果關係 vs. 相關性\n",
    "* 相關性（Correlation）：量化相關性的值範圍在-1~1之間，即相關係數，我們可以使用相關係數的值來測量2個變數的走勢是如何相關和其強度，\n",
    " * 例如：相關係數的值接近1，表示1個變數增加；另一個變數也增加，接近-1，表示1個變數增加；另一個變數減少。\n",
    "* 因果關係（Causation）：一個變數真的影響另一個變數，也就是說，一個變數真的可以決定另一個變數的值。\n",
    "<br /> <br />\n",
    "* 如果2個變數有因果關係，表示一定有相關性；\n",
    "* 反之，有相關性，並不表示2個變數之間擁有因果關係\n"
   ]
  },
  {
   "cell_type": "code",
   "execution_count": null,
   "metadata": {},
   "outputs": [],
   "source": [
    "# ch13_1_3  相關係數的算法\n",
    "# pandas 的 corr()函式可以計算每一個欄位之間的相關係數\n",
    "\n",
    "import numpy as np\n",
    "import pandas as pd\n",
    "\n",
    "hours_phone_used = [0,0,0,1,1.3,1.5,2,2.2,2.6,3.2,4.1,4.4,4.4,5]\n",
    "work_performance = [87,89,91,90,82,80,78,81,76,85,80,75,73,72]\n",
    "\n",
    "x = np.array(hours_phone_used)\n",
    "y = np.array(work_performance)\n",
    "n = len(x)\n",
    "x_mean = x.mean()\n",
    "y_mean = y.mean()\n",
    "\n",
    "diff = (x-x_mean)*(y-y_mean)\n",
    "covar = diff.sum()/n\n",
    "print(\"共變異數:\", covar)\n",
    "\n",
    "corr = covar/(x.std()*y.std())\n",
    "print(\"相關係數:\", corr)\n",
    "\n",
    "df = pd.DataFrame({\"hours_phone_used\":hours_phone_used,\n",
    "                   \"work_performance\":work_performance})\n",
    "print(df.corr())   # pandas 的 corr()函式可以計算每一個欄位之間的相關係數\n",
    "df.corr().to_html(\"Ch13_1_3.html\")"
   ]
  },
  {
   "cell_type": "markdown",
   "metadata": {},
   "source": [
    "## 相關的統計檢定"
   ]
  },
  {
   "cell_type": "code",
   "execution_count": null,
   "metadata": {},
   "outputs": [],
   "source": [
    "### SPSS 操作步驟\n",
    "* 分析 / 相關 / 雙變數\n",
    "* 輸入兩個變項\n",
    "* 勾選所需的相關係數類型和其它設定 （顯著性訊號表示：當相關係數有統計意義時，以*表示）\n",
    "* 勾選選項中的統計量（平均數與標準差）\n",
    "\n",
    "結果：看Person相關係數及p 值\n",
    "\n"
   ]
  },
  {
   "cell_type": "code",
   "execution_count": null,
   "metadata": {},
   "outputs": [],
   "source": [
    "# 資料來自邱皓政 量化研究法二 p.15-38\n",
    "\n",
    "# 由家庭人口數預測家庭開銷\n",
    "\n",
    "X = np.array([3, 5, 4, 6, 2, 4, 5, 8, 7, 5])\n",
    "y = np.array ([15000, 34000, 22000, 36300, 16000, 25000, 30000, 45000, 44000, 39000])"
   ]
  },
  {
   "cell_type": "markdown",
   "metadata": {},
   "source": [
    "### 斜率與截距\n",
    "* 迴歸線的斜率是正值：迴歸線往右斜向上的斜率是正值（見上述圖例），x和y的關係是正相關，x值增加；同時y值也會增加。\n",
    "* 迴歸線的斜率是負值：迴歸線往右斜向下的斜率是負值，x和y的關係是負相關，x值減少；同時y值也會減少。\n",
    "<img src = \"images/regression_line.jpg\" width = 300 height = 100>\n",
    "<img src = \"images/intercept.png\" width = 300 height = 100>\n"
   ]
  },
  {
   "cell_type": "markdown",
   "metadata": {},
   "source": [
    "## 簡單線性迴歸（Simple Linear Regression）\n",
    "\n",
    "* 是一種最簡單的線性迴歸分析法，只有1個解釋變數，這條線可以使用數學的一次方程式來表示，也就是2個變數之間關係的數學公式，如下所示：\n",
    "<img src = \"images/equation.jpg\" width = 300 height = 100>\n"
   ]
  },
  {
   "cell_type": "markdown",
   "metadata": {
    "collapsed": true
   },
   "source": [
    "* 公式的變數y是反應變數（Response，或稱應變數），X是解釋變數（Explanatory，或稱自變數），a是截距（Intercept），b是迴歸係數(\n",
    "Regression coefficients)\n",
    "\n",
    "\n",
    "* 當從訓練資料找出截距a和迴歸係數b的值後，就完成預測公式。我們只需使用新值X，即可透過公式來預測y值。"
   ]
  },
  {
   "cell_type": "code",
   "execution_count": null,
   "metadata": {},
   "outputs": [],
   "source": []
  },
  {
   "cell_type": "markdown",
   "metadata": {},
   "source": [
    "## 使用最小評方法(least square)求出迴歸線:\n",
    "### *　一條斜線，各點至此線之平行於　Y軸的距離的平方為為最小"
   ]
  },
  {
   "cell_type": "markdown",
   "metadata": {},
   "source": [
    "\n",
    "<img src = \"images/regression_line.png\" width = 300 height = 100>\n"
   ]
  },
  {
   "cell_type": "markdown",
   "metadata": {},
   "source": [
    "### 根據 X變數預測 Y變數時，截距a和斜率b的值\n",
    "\n",
    "<img src = \"images/intercept_formula.png\" width = 300 height = 100>\n"
   ]
  },
  {
   "cell_type": "code",
   "execution_count": null,
   "metadata": {},
   "outputs": [],
   "source": [
    "# by Lai\n",
    "\n",
    "\n",
    "import numpy as np\n",
    "x = np.array([29, 28, 34, 31,\n",
    "                         25, 29, 32, 31,\n",
    "                         24, 33, 25, 31,\n",
    "                         26, 30])\n",
    "y = np.array([7.7, 6.2, 9.3, 8.4,\n",
    "                        5.9, 6.4, 8.0, 7.5,\n",
    "                        5.8, 9.1, 5.1, 7.3,\n",
    "                        6.5, 8.4])\n",
    "\n",
    "# 繪圖\n",
    "import matplotlib.pyplot as plt\n",
    "plt.plot(x, y, 'go')\n",
    "plt.show()"
   ]
  },
  {
   "cell_type": "code",
   "execution_count": null,
   "metadata": {},
   "outputs": [],
   "source": [
    "# by Lai\n",
    "# 計算迴歸係數（斜率）、截距、並預測\n",
    "# 自己算\n",
    "\n",
    "import numpy as np\n",
    "x = np.array([29, 28, 34, 31,\n",
    "                         25, 29, 32, 31,\n",
    "                         24, 33, 25, 31,\n",
    "                         26, 30])\n",
    "y = np.array([7.7, 6.2, 9.3, 8.4,\n",
    "                        5.9, 6.4, 8.0, 7.5,\n",
    "                        5.8, 9.1, 5.1, 7.3,\n",
    "                        6.5, 8.4])\n",
    "n = len(x)\n",
    "x_mean = x.mean()\n",
    "y_mean = y.mean()\n",
    "\n",
    "diff = (x-x_mean)*(y-y_mean)\n",
    "covar = diff.sum()/n\n",
    "print(\"共變異數:\", covar)\n",
    "\n",
    "b= covar/(x.std()** 2)\n",
    "print(\"斜率（迴歸係數）：\", b)\n",
    "\n",
    "intercept = y_mean - b * x_mean\n",
    "print(\"截距 intercept:\", intercept)\n",
    "\n",
    "print(\"迴歸線：Y= {}X + {}\".format(b, intercept) )\n",
    "\n",
    "x1 = np.array([26, 30])\n",
    "y_predict = b * x1 + intercept\n",
    "print('\\n[26, 30]的y_predict:', y_predict)\n",
    "\n",
    "# 繪圖\n",
    "import matplotlib.pyplot as plt\n",
    "x_new = np.linspace(x.min(), x.max(), 100)\n",
    "y_new  = b * x_new + intercept\n",
    "# plt.plot(x, y, 'go', x_new, y_new)\n",
    "plt.plot(x, y, 'go')\n",
    "plt.plot(x_new, y_new)\n",
    "plt.plot(x1, y_predict, 'ro')\n",
    "plt.show()"
   ]
  },
  {
   "cell_type": "code",
   "execution_count": null,
   "metadata": {},
   "outputs": [],
   "source": [
    "# by Lai\n",
    "# 計算迴歸係數（斜率）、截距、並預測\n",
    "# 自己算\n",
    "\n",
    "import numpy as np\n",
    "x = np.array([11,10, 6, 5, 3, 7, 3, 8, 9, 2])\n",
    "y = np.array([12, 9, 9, 7, 5, 5, 6, 6, 10, 3])\n",
    "n = len(x)\n",
    "x_mean = x.mean()\n",
    "y_mean = y.mean()\n",
    "\n",
    "diff = (x-x_mean)*(y-y_mean)\n",
    "covar = diff.sum()/n\n",
    "print(\"共變異數:\", covar)\n",
    "\n",
    "b= covar/(x.std()** 2)\n",
    "print(\"斜率（迴歸係數）：\", b)\n",
    "\n",
    "intercept = y_mean - b * x_mean\n",
    "print(\"intercept:\", intercept)\n",
    "\n",
    "print(\"迴歸線：Y= {}X + {}\".format(b, intercept) )\n",
    "\n",
    "x = 4.0\n",
    "y_predict = b * x + intercept\n",
    "print('y_predict:', y_predict)"
   ]
  },
  {
   "cell_type": "code",
   "execution_count": null,
   "metadata": {},
   "outputs": [],
   "source": [
    "# ch15_2_2\n",
    "# 計算迴歸係數（斜率）、截距、並預測\n",
    "# 使用當日氣溫來預測當日的業積\n",
    "# use object: LinearRegression\n",
    "\n",
    "import numpy as np\n",
    "import pandas as pd\n",
    "from sklearn.linear_model import LinearRegression\n",
    "\n",
    "temperatures = np.array([29, 28, 34, 31,\n",
    "                         25, 29, 32, 31,\n",
    "                         24, 33, 25, 31,\n",
    "                         26, 30])\n",
    "drink_sales = np.array([7.7, 6.2, 9.3, 8.4,\n",
    "                        5.9, 6.4, 8.0, 7.5,\n",
    "                        5.8, 9.1, 5.1, 7.3,\n",
    "                        6.5, 8.4])\n",
    "X = pd.DataFrame(temperatures, columns=[\"Temperature\"])\n",
    "target = pd.DataFrame(drink_sales, columns=[\"Drink_Sales\"])\n",
    "y = target[\"Drink_Sales\"]\n",
    "\n",
    "lm = LinearRegression()\n",
    "lm.fit(X, y)    # train predict model\n",
    "print(\"迴歸係數（斜率）:\", lm.coef_)\n",
    "print(\"截距:\", lm.intercept_ )\n",
    "# 預測氣溫26, 30度的業績\n",
    "new_temperatures = pd.DataFrame(np.array([26, 30]))\n",
    "predicted_sales = lm.predict(new_temperatures)\n",
    "print(predicted_sales)"
   ]
  },
  {
   "cell_type": "code",
   "execution_count": 10,
   "metadata": {},
   "outputs": [
    {
     "name": "stdout",
     "output_type": "stream",
     "text": [
      "[6.08237885 7.57753304]\n"
     ]
    },
    {
     "data": {
      "image/png": "[encoded data removed]",
      "text/plain": [
       "<Figure size 432x288 with 1 Axes>"
      ]
     },
     "metadata": {
      "needs_background": "light"
     },
     "output_type": "display_data"
    }
   ],
   "source": [
    "# ch15_2_2a\n",
    "# 天氣預測營業額（千元）\n",
    "# 繪出圖形\n",
    "\n",
    "import numpy as np\n",
    "import pandas as pd\n",
    "from sklearn.linear_model import LinearRegression\n",
    "import matplotlib.pyplot as plt\n",
    "\n",
    "temperatures = np.array([29, 28, 34, 31,\n",
    "                         25, 29, 32, 31,\n",
    "                         24, 33, 25, 31,\n",
    "                         26, 30])\n",
    "drink_sales = np.array([7.7, 6.2, 9.3, 8.4,\n",
    "                        5.9, 6.4, 8.0, 7.5,\n",
    "                        5.8, 9.1, 5.1, 7.3,\n",
    "                        6.5, 8.4])\n",
    "X = pd.DataFrame(temperatures, columns=[\"Temperature\"])\n",
    "target = pd.DataFrame(drink_sales, columns=[\"Drink_Sales\"])\n",
    "y = target[\"Drink_Sales\"]\n",
    "lm = LinearRegression()\n",
    "lm.fit(X, y)\n",
    "# 預測氣溫26, 30度的業績\n",
    "new_temperatures = pd.DataFrame(np.array([26, 30]))\n",
    "predicted_sales = lm.predict(new_temperatures)\n",
    "print(predicted_sales)\n",
    "\n",
    "plt.scatter(temperatures, drink_sales)  # 繪點\n",
    "regression_sales = lm.predict(X)\n",
    "plt.plot(temperatures, regression_sales, color=\"blue\")\n",
    "#plt.plot(new_temperatures, predicted_sales, \n",
    "#         color=\"red\", marker=\"o\", markersize=10)\n",
    "plt.show()"
   ]
  },
  {
   "cell_type": "code",
   "execution_count": 4,
   "metadata": {},
   "outputs": [
    {
     "name": "stdout",
     "output_type": "stream",
     "text": [
      "迴歸係數: [0.62513172]\n",
      "截距: -48.60353530031602\n",
      "[50.7924078  51.41753952 52.04267123]\n"
     ]
    },
    {
     "data": {
      "image/png": "[encoded data removed]",
      "text/plain": [
       "<Figure size 432x288 with 1 Axes>"
      ]
     },
     "metadata": {
      "needs_background": "light"
     },
     "output_type": "display_data"
    }
   ],
   "source": [
    "# ch15_2_2b revised\n",
    "# 身高預測體重\n",
    "\n",
    "import numpy as np\n",
    "import pandas as pd\n",
    "from sklearn.linear_model import LinearRegression\n",
    "import matplotlib.pyplot as plt\n",
    "\n",
    "heights = np.array([147.9, 163.5, 159.8, 155.1,\n",
    "                    163.3, 158.7, 172.0, 161.2,\n",
    "                    153.9, 161.6])\n",
    "weights = np.array([41.7, 60.2, 47.0, 53.2,\n",
    "                    48.3, 55.2, 58.5, 49.0,\n",
    "                    46.7, 52.5])\n",
    "X = pd.DataFrame(heights, columns=[\"Height\"])\n",
    "target = pd.DataFrame(weights, columns=[\"Weight\"])  # 資料型態為 DataFrame\n",
    "y = target[\"Weight\"]       # 資料型態為 Series, 也可以直接使用 y = pd.Series(weights)\n",
    "lm = LinearRegression()\n",
    "lm.fit(X, y)                # 也可以直接使用 lm.fit(x, weights)\n",
    "print(\"迴歸係數:\", lm.coef_)\n",
    "print(\"截距:\", lm.intercept_ )\n",
    "\n",
    "# 預測身高150, 160, 170的體重\n",
    "new_heights = pd.DataFrame(np.array([159, 160, 161]))\n",
    "predicted_weights = lm.predict(new_heights)\n",
    "print(predicted_weights)\n",
    "\n",
    "plt.scatter(heights, weights)  # 繪點\n",
    "regression_weights = lm.predict(X)\n",
    "plt.plot(heights, regression_weights, color=\"blue\")\n",
    "plt.plot(new_heights, predicted_weights, \n",
    "         color=\"red\", marker=\"o\", markersize=10)\n",
    "plt.show()"
   ]
  },
  {
   "cell_type": "markdown",
   "metadata": {},
   "source": [
    "## 迴歸是否有達到統計意義 （統計學的議題）"
   ]
  },
  {
   "cell_type": "markdown",
   "metadata": {},
   "source": [
    "### SPSS 作法：\n",
    "* 分析 / 迴歸方法 / 線性\n",
    " * 輸入自變項與依變項\n",
    " * 進入統計量勾選各種統計量（估計值、共變異數矩陣、描述性統計量、模式適合度）\n",
    " * 按確定\n"
   ]
  },
  {
   "cell_type": "markdown",
   "metadata": {},
   "source": [
    " <img src = \"images/SS.png\" width = \"500\" height = \"200\" align=\"left\"> <br /> <br /> <br /> <br />\n",
    "\n"
   ]
  },
  {
   "cell_type": "markdown",
   "metadata": {},
   "source": [
    " <img src = \"images/regression_table1.png\" width = \"500\" height = \"200\" align=\"left\"> <br /> <br /> <br /> <br />\n",
    "\n"
   ]
  },
  {
   "cell_type": "markdown",
   "metadata": {},
   "source": [
    " <img src = \"images/regression_table2.png\" width = \"500\" height = \"200\" align=\"left\"> <br /> <br /> <br /> <br />\n",
    "\n"
   ]
  },
  {
   "cell_type": "markdown",
   "metadata": {},
   "source": [
    "迴歸模型的變異數分析摘要表可參考邱皓政，量化統計二，p.15-33"
   ]
  },
  {
   "cell_type": "code",
   "execution_count": null,
   "metadata": {},
   "outputs": [],
   "source": [
    "# 資料來自邱皓政 量化研究法二 p.15-45\n",
    "# 由家庭人口數預測家庭開銷\n",
    "\n",
    "import pandas as pd\n",
    "import numpy as np\n",
    "\n",
    "import statsmodels.api as sm\n",
    "\n",
    "X = np.array([3, 5, 4, 6, 2, 4, 5, 8, 7, 5])\n",
    "y = np.array ([15000, 34000, 22000, 36300, 16000, 25000, 30000, 45000, 44000, 39000])\n",
    "\n",
    "# model = sm.OLS(y,X)\n",
    "model = sm.OLS(y, sm.add_constant(X))   # statsmodels.OLS 不會假設迴歸模型有常數項，所以要自己加入常數（截距）\n",
    "results = model.fit()\n",
    "print(\"截距與斜率:\", results.params) # 顯示截距與斜率\n",
    "print()\n",
    "print(results.summary())"
   ]
  },
  {
   "cell_type": "code",
   "execution_count": null,
   "metadata": {},
   "outputs": [],
   "source": [
    "# 結果解釋：\n",
    "\n",
    "R-squared: 0.885 表示家庭人口數可以解釋每月開銷的88.5%的變異量\n",
    "F(1, 8) = 61.48,  p=5.04e-05 < .05 顯示迴歸模型具有統計意義\n",
    "(註：迴歸模型有統計意義之後，再看每個自變項的係數是否有統計意義，自變項有可能不只一個)\n",
    "\n",
    "係數估計的結果指出：斜率為 5706.9204，截距為 2666.0900，其 t = 7.841 , p value <.05，\n",
    "  表示人口數對家庭開銷有預測效益（需拒絕虛無假設：迴歸係數= 0）\n",
    "    \n",
    "迴歸模型的變異數分析摘要表可參考邱皓政，量化統計二，p.15-33"
   ]
  },
  {
   "cell_type": "markdown",
   "metadata": {},
   "source": [
    "## 線性複迴歸 （Linear Multiple Regression):或稱多元迴歸\n",
    "### * 多個解釋變數（自變數），一個反應變數（依變數）\n"
   ]
  },
  {
   "cell_type": "code",
   "execution_count": 27,
   "metadata": {
    "scrolled": true
   },
   "outputs": [
    {
     "name": "stdout",
     "output_type": "stream",
     "text": [
      "[[ 67 160]\n",
      " [ 68 165]\n",
      " [ 70 167]\n",
      " [ 65 170]\n",
      " [ 80 165]\n",
      " [ 85 167]\n",
      " [ 78 178]\n",
      " [ 79 182]\n",
      " [ 95 175]\n",
      " [ 89 172]]\n",
      "   Waist  Height\n",
      "0     67     160\n",
      "1     68     165\n",
      "2     70     167\n",
      "3     65     170\n",
      "4     80     165\n",
      "5     85     167\n",
      "6     78     178\n",
      "7     79     182\n",
      "8     95     175\n",
      "9     89     172\n",
      "<class 'pandas.core.series.Series'>\n",
      "迴歸係數: [0.71013574 1.07794276]\n",
      "截距: -166.36459730650577\n",
      "[57.28697457 77.2726885 ]\n",
      "<class 'pandas.core.frame.DataFrame'>\n",
      "   Weight\n",
      "0      50\n",
      "1      60\n",
      "2      65\n",
      "3      65\n",
      "4      70\n",
      "5      75\n",
      "6      80\n",
      "7      85\n",
      "8      90\n",
      "9      81\n",
      "\n",
      "y:\n",
      "0    50\n",
      "1    60\n",
      "2    65\n",
      "3    65\n",
      "4    70\n",
      "5    75\n",
      "6    80\n",
      "7    85\n",
      "8    90\n",
      "9    81\n",
      "Name: Weight, dtype: int32\n",
      "<class 'pandas.core.series.Series'>\n"
     ]
    }
   ],
   "source": [
    "# ch15_3_1\n",
    "# 腰圍和身高預測體重\n",
    "\n",
    "import numpy as np\n",
    "import pandas as pd\n",
    "from sklearn.linear_model import LinearRegression\n",
    "\n",
    "waist_heights = np.array([[67,160], [68,165], [70,167], \n",
    "                          [65,170], [80,165], [85,167],\n",
    "                          [78,178], [79,182], [95,175],\n",
    "                          [89,172]])\n",
    "weights = np.array([50, 60, 65, 65,\n",
    "                    70, 75, 80, 85,\n",
    "                    90, 81])\n",
    "X = pd.DataFrame(waist_heights, columns=[\"Waist\", \"Height\"])\n",
    "target = pd.DataFrame(weights, columns=[\"Weight\"])\n",
    "print(waist_heights)\n",
    "print(X)\n",
    "y = target[\"Weight\"]\n",
    "print(type(y))\n",
    "lm = LinearRegression()\n",
    "lm.fit(X, y)\n",
    "print(\"迴歸係數:\", lm.coef_)\n",
    "print(\"截距:\", lm.intercept_ )\n",
    "\n",
    "# 預測腰圍和身高[66,164],[82,172]的體重\n",
    "new_waist_heights = pd.DataFrame(np.array([[66, 164],\n",
    "                                           [82, 172]]))\n",
    "predicted_weights = lm.predict(new_waist_heights)\n",
    "print(predicted_weights)\n",
    "\n",
    "print(type(target))\n",
    "print(target)\n",
    "print(\"\\ny:\", y, sep='\\n')\n",
    "print(type(y))\n"
   ]
  },
  {
   "cell_type": "code",
   "execution_count": 69,
   "metadata": {},
   "outputs": [
    {
     "name": "stdout",
     "output_type": "stream",
     "text": [
      "迴歸係數: [ 0.86040532 -0.1070237 ]\n",
      "截距: 5.23058799935211\n",
      "     一月   二月\n",
      "0   310  149\n",
      "1   287  183\n",
      "2    55   41\n",
      "3   102   79\n",
      "4   125   77\n",
      "5    61   32\n",
      "6   112   60\n",
      "7   158  104\n",
      "8    82   49\n",
      "9   147   99\n",
      "10   32   12\n",
      "11   25   23\n",
      "12    4    4\n",
      "[[310 149]\n",
      " [287 183]\n",
      " [ 55  41]\n",
      " [102  79]\n",
      " [125  77]\n",
      " [ 61  32]\n",
      " [112  60]\n",
      " [158 104]\n",
      " [ 82  49]\n",
      " [147  99]]\n",
      "[256.00970404 232.58157588  48.16490852  84.53705763 104.5404273\n",
      "  54.29055375  95.17456115 130.04416272  70.53966242 121.11482277]\n"
     ]
    },
    {
     "data": {
      "text/html": [
       "<div>\n",
       "<style scoped>\n",
       "    .dataframe tbody tr th:only-of-type {\n",
       "        vertical-align: middle;\n",
       "    }\n",
       "\n",
       "    .dataframe tbody tr th {\n",
       "        vertical-align: top;\n",
       "    }\n",
       "\n",
       "    .dataframe thead th {\n",
       "        text-align: right;\n",
       "    }\n",
       "</style>\n",
       "<table border=\"1\" class=\"dataframe\">\n",
       "  <thead>\n",
       "    <tr style=\"text-align: right;\">\n",
       "      <th></th>\n",
       "      <th>一月</th>\n",
       "      <th>二月</th>\n",
       "      <th>預測結果</th>\n",
       "      <th>實際結果</th>\n",
       "    </tr>\n",
       "  </thead>\n",
       "  <tbody>\n",
       "    <tr>\n",
       "      <th>0</th>\n",
       "      <td>310</td>\n",
       "      <td>149</td>\n",
       "      <td>256.009704</td>\n",
       "      <td>263</td>\n",
       "    </tr>\n",
       "    <tr>\n",
       "      <th>1</th>\n",
       "      <td>287</td>\n",
       "      <td>183</td>\n",
       "      <td>232.581576</td>\n",
       "      <td>237</td>\n",
       "    </tr>\n",
       "    <tr>\n",
       "      <th>2</th>\n",
       "      <td>55</td>\n",
       "      <td>41</td>\n",
       "      <td>48.164909</td>\n",
       "      <td>58</td>\n",
       "    </tr>\n",
       "    <tr>\n",
       "      <th>3</th>\n",
       "      <td>102</td>\n",
       "      <td>79</td>\n",
       "      <td>84.537058</td>\n",
       "      <td>96</td>\n",
       "    </tr>\n",
       "    <tr>\n",
       "      <th>4</th>\n",
       "      <td>125</td>\n",
       "      <td>77</td>\n",
       "      <td>104.540427</td>\n",
       "      <td>95</td>\n",
       "    </tr>\n",
       "    <tr>\n",
       "      <th>5</th>\n",
       "      <td>61</td>\n",
       "      <td>32</td>\n",
       "      <td>54.290554</td>\n",
       "      <td>55</td>\n",
       "    </tr>\n",
       "    <tr>\n",
       "      <th>6</th>\n",
       "      <td>112</td>\n",
       "      <td>60</td>\n",
       "      <td>95.174561</td>\n",
       "      <td>86</td>\n",
       "    </tr>\n",
       "    <tr>\n",
       "      <th>7</th>\n",
       "      <td>158</td>\n",
       "      <td>104</td>\n",
       "      <td>130.044163</td>\n",
       "      <td>111</td>\n",
       "    </tr>\n",
       "    <tr>\n",
       "      <th>8</th>\n",
       "      <td>82</td>\n",
       "      <td>49</td>\n",
       "      <td>70.539662</td>\n",
       "      <td>78</td>\n",
       "    </tr>\n",
       "    <tr>\n",
       "      <th>9</th>\n",
       "      <td>147</td>\n",
       "      <td>99</td>\n",
       "      <td>121.114823</td>\n",
       "      <td>117</td>\n",
       "    </tr>\n",
       "  </tbody>\n",
       "</table>\n",
       "</div>"
      ],
      "text/plain": [
       "    一月   二月        預測結果  實際結果\n",
       "0  310  149  256.009704   263\n",
       "1  287  183  232.581576   237\n",
       "2   55   41   48.164909    58\n",
       "3  102   79   84.537058    96\n",
       "4  125   77  104.540427    95\n",
       "5   61   32   54.290554    55\n",
       "6  112   60   95.174561    86\n",
       "7  158  104  130.044163   111\n",
       "8   82   49   70.539662    78\n",
       "9  147   99  121.114823   117"
      ]
     },
     "execution_count": 69,
     "metadata": {},
     "output_type": "execute_result"
    }
   ],
   "source": [
    "import numpy as np\n",
    "import pandas as pd\n",
    "from sklearn.linear_model import LinearRegression\n",
    "\n",
    "data = pd.read_csv(\"107年結婚對數.csv\")\n",
    "\n",
    "x = pd.concat([data['一月'], data['二月']], axis=1)\n",
    "y = data['三月']\n",
    "\n",
    "lm = LinearRegression()\n",
    "lm.fit(x, y)\n",
    "print(\"迴歸係數:\", lm.coef_)\n",
    "print(\"截距:\", lm.intercept_ )\n",
    "\n",
    "# Independent Variable\n",
    "x_test = np.array([[310, 149],\n",
    "                   [287, 183],\n",
    "                   [55, 41],\n",
    "                   [102, 79],\n",
    "                   [125, 77],\n",
    "                   [61, 32],\n",
    "                   [112, 60],\n",
    "                   [158, 104],\n",
    "                   [82, 49],\n",
    "                   [147, 99],])\n",
    "new = pd.DataFrame(x_test, columns=['一月', '二月'])\n",
    "print(x)\n",
    "print(x_test)\n",
    "\n",
    "\n",
    "\n",
    "\n",
    "\n",
    "truth = np.array([263,237,58,96,95,55,86,111,78,117])\n",
    "truth = pd.DataFrame(truth, columns=[\"實際結果\"])\n",
    "predicted = lm.predict(new)\n",
    "print(predicted)\n",
    "predicted = pd.DataFrame(predicted, columns=[\"預測結果\"])\n",
    "pd.concat([new, predicted ,truth], axis=1)"
   ]
  },
  {
   "cell_type": "code",
   "execution_count": 6,
   "metadata": {},
   "outputs": [
    {
     "name": "stdout",
     "output_type": "stream",
     "text": [
      "迴歸係數: [ 4.12351586 -0.03452946]\n",
      "截距: 6.845523384392735\n",
      "[44.62773616]\n"
     ]
    }
   ],
   "source": [
    "# ch15_3_1a\n",
    "# 使用店面面積和車站距離來預測單月營業額\n",
    "\n",
    "import numpy as np\n",
    "import pandas as pd\n",
    "from sklearn.linear_model import LinearRegression\n",
    "\n",
    "area_dists = np.array([[10,80], [8,0], [8,200], \n",
    "                       [5,200], [7,300], [8,230],\n",
    "                       [7,40], [9,0], [6,330],\n",
    "                       [9,180]])\n",
    "sales = np.array([46.9, 36.6, 37.1, 20.8,\n",
    "                    24.6, 29.7, 36.6, 43.6,\n",
    "                    19.8, 36.4])\n",
    "X = pd.DataFrame(area_dists, columns=[\"Area\", \"Distance\"])\n",
    "target = pd.DataFrame(sales, columns=[\"Sales\"])\n",
    "y = target[\"Sales\"]\n",
    "lm = LinearRegression()\n",
    "lm.fit(X, y)\n",
    "print(\"迴歸係數:\", lm.coef_)\n",
    "print(\"截距:\", lm.intercept_ )\n",
    "\n",
    "# 預測腰面積和距離[10,100]的營業額\n",
    "new_area_dists = pd.DataFrame(np.array([[10, 100]]))\n",
    "predicted_sales = lm.predict(new_area_dists)\n",
    "print(predicted_sales)"
   ]
  },
  {
   "cell_type": "markdown",
   "metadata": {
    "collapsed": true
   },
   "source": [
    "### 實戰練習：波斯頓房價預測\n"
   ]
  },
  {
   "cell_type": "code",
   "execution_count": 1,
   "metadata": {},
   "outputs": [
    {
     "name": "stdout",
     "output_type": "stream",
     "text": [
      "keys:\n",
      " dict_keys(['data', 'target', 'feature_names', 'DESCR', 'filename'])\n",
      "\n",
      "data shape:\n",
      " (506, 13)\n",
      "\n",
      "field name in data:\n",
      " ['CRIM' 'ZN' 'INDUS' 'CHAS' 'NOX' 'RM' 'AGE' 'DIS' 'RAD' 'TAX' 'PTRATIO'\n",
      " 'B' 'LSTAT']\n",
      "\n",
      "Description: .. _boston_dataset:\n",
      "\n",
      "Boston house prices dataset\n",
      "---------------------------\n",
      "\n",
      "**Data Set Characteristics:**  \n",
      "\n",
      "    :Number of Instances: 506 \n",
      "\n",
      "    :Number of Attributes: 13 numeric/categorical predictive. Median Value (attribute 14) is usually the target.\n",
      "\n",
      "    :Attribute Information (in order):\n",
      "        - CRIM     per capita crime rate by town\n",
      "        - ZN       proportion of residential land zoned for lots over 25,000 sq.ft.\n",
      "        - INDUS    proportion of non-retail business acres per town\n",
      "        - CHAS     Charles River dummy variable (= 1 if tract bounds river; 0 otherwise)\n",
      "        - NOX      nitric oxides concentration (parts per 10 million)\n",
      "        - RM       average number of rooms per dwelling\n",
      "        - AGE      proportion of owner-occupied units built prior to 1940\n",
      "        - DIS      weighted distances to five Boston employment centres\n",
      "        - RAD      index of accessibility to radial highways\n",
      "        - TAX      full-value property-tax rate per $10,000\n",
      "        - PTRATIO  pupil-teacher ratio by town\n",
      "        - B        1000(Bk - 0.63)^2 where Bk is the proportion of blacks by town\n",
      "        - LSTAT    % lower status of the population\n",
      "        - MEDV     Median value of owner-occupied homes in $1000's\n",
      "\n",
      "    :Missing Attribute Values: None\n",
      "\n",
      "    :Creator: Harrison, D. and Rubinfeld, D.L.\n",
      "\n",
      "This is a copy of UCI ML housing dataset.\n",
      "https://archive.ics.uci.edu/ml/machine-learning-databases/housing/\n",
      "\n",
      "\n",
      "This dataset was taken from the StatLib library which is maintained at Carnegie Mellon University.\n",
      "\n",
      "The Boston house-price data of Harrison, D. and Rubinfeld, D.L. 'Hedonic\n",
      "prices and the demand for clean air', J. Environ. Economics & Management,\n",
      "vol.5, 81-102, 1978.   Used in Belsley, Kuh & Welsch, 'Regression diagnostics\n",
      "...', Wiley, 1980.   N.B. Various transformations are used in the table on\n",
      "pages 244-261 of the latter.\n",
      "\n",
      "The Boston house-price data has been used in many machine learning papers that address regression\n",
      "problems.   \n",
      "     \n",
      ".. topic:: References\n",
      "\n",
      "   - Belsley, Kuh & Welsch, 'Regression diagnostics: Identifying Influential Data and Sources of Collinearity', Wiley, 1980. 244-261.\n",
      "   - Quinlan,R. (1993). Combining Instance-Based and Model-Based Learning. In Proceedings on the Tenth International Conference of Machine Learning, 236-243, University of Massachusetts, Amherst. Morgan Kaufmann.\n",
      "\n"
     ]
    }
   ],
   "source": [
    "# ch15_3_2\n",
    "\n",
    "from sklearn import datasets\n",
    "\n",
    "boston = datasets.load_boston()      # 載入其它資料庫，如鳶尾花的方式：datasets.load_iris(), load_diabetes() \n",
    "# data type is dictionaryz\n",
    "\n",
    "print(\"keys:\\n\", boston.keys())\n",
    "print(\"\\ndata shape:\\n\", boston.data.shape)\n",
    "print(\"\\nfield name in data:\\n\", boston.feature_names)\n",
    "print(\"\\nDescription:\", boston.DESCR)"
   ]
  },
  {
   "cell_type": "code",
   "execution_count": 12,
   "metadata": {},
   "outputs": [
    {
     "name": "stdout",
     "output_type": "stream",
     "text": [
      "      CRIM    ZN  INDUS  CHAS    NOX     RM   AGE     DIS  RAD    TAX  \\\n",
      "0  0.00632  18.0   2.31   0.0  0.538  6.575  65.2  4.0900  1.0  296.0   \n",
      "1  0.02731   0.0   7.07   0.0  0.469  6.421  78.9  4.9671  2.0  242.0   \n",
      "2  0.02729   0.0   7.07   0.0  0.469  7.185  61.1  4.9671  2.0  242.0   \n",
      "3  0.03237   0.0   2.18   0.0  0.458  6.998  45.8  6.0622  3.0  222.0   \n",
      "4  0.06905   0.0   2.18   0.0  0.458  7.147  54.2  6.0622  3.0  222.0   \n",
      "\n",
      "   PTRATIO       B  LSTAT  \n",
      "0     15.3  396.90   4.98  \n",
      "1     17.8  396.90   9.14  \n",
      "2     17.8  392.83   4.03  \n",
      "3     18.7  394.63   2.94  \n",
      "4     18.7  396.90   5.33  \n",
      "\n",
      "\n",
      "target:\n",
      "\n",
      "\n",
      "   MEDV\n",
      "0  24.0\n",
      "1  21.6\n",
      "2  34.7\n",
      "3  33.4\n",
      "4  36.2\n"
     ]
    }
   ],
   "source": [
    "# ch15_3_2a modified\n",
    "\n",
    "import pandas as pd\n",
    "from sklearn import datasets\n",
    "\n",
    "boston = datasets.load_boston()\n",
    "\n",
    "X = pd.DataFrame(boston.data, columns=boston.feature_names)\n",
    "print(X.head())\n",
    "\n",
    "target = pd.DataFrame(boston.target, columns=[\"MEDV\"])\n",
    "print('\\n','target:', '\\n', target.head(), sep='\\n')\n"
   ]
  },
  {
   "cell_type": "code",
   "execution_count": 18,
   "metadata": {
    "scrolled": false
   },
   "outputs": [
    {
     "name": "stdout",
     "output_type": "stream",
     "text": [
      "迴歸係數: [-1.08011358e-01  4.64204584e-02  2.05586264e-02  2.68673382e+00\n",
      " -1.77666112e+01  3.80986521e+00  6.92224640e-04 -1.47556685e+00\n",
      "  3.06049479e-01 -1.23345939e-02 -9.52747232e-01  9.31168327e-03\n",
      " -5.24758378e-01]\n",
      "截距: 36.459488385089855\n",
      "\n",
      "迴歸係數:\n",
      "   features  estimatedCoefficients\n",
      "0      CRIM              -0.108011\n",
      "1        ZN               0.046420\n",
      "2     INDUS               0.020559\n",
      "3      CHAS               2.686734\n",
      "4       NOX             -17.766611\n",
      "5        RM               3.809865\n",
      "6       AGE               0.000692\n",
      "7       DIS              -1.475567\n",
      "8       RAD               0.306049\n",
      "9       TAX              -0.012335\n",
      "10  PTRATIO              -0.952747\n",
      "11        B               0.009312\n",
      "12    LSTAT              -0.524758\n"
     ]
    }
   ],
   "source": [
    "# ch15_3_2b modified\n",
    "\n",
    "import pandas as pd\n",
    "from sklearn import datasets\n",
    "from sklearn.linear_model import LinearRegression\n",
    "import matplotlib.pyplot as plt\n",
    "\n",
    "boston = datasets.load_boston()\n",
    "\n",
    "X = pd.DataFrame(boston.data, columns=boston.feature_names)\n",
    "target = pd.DataFrame(boston.target, columns=[\"MEDV\"])\n",
    "y = target[\"MEDV\"]\n",
    "\n",
    "lm = LinearRegression()\n",
    "lm.fit(X, y)\n",
    "print(\"迴歸係數:\", lm.coef_)\n",
    "print(\"截距:\", lm.intercept_ )\n",
    "\n",
    "coef = pd.DataFrame(boston.feature_names, columns=[\"features\"])\n",
    "coef[\"estimatedCoefficients\"] = lm.coef_\n",
    "print(\"\\n迴歸係數:\", coef, sep = '\\n')\n",
    "\n",
    "# The bigest regression coefficient is \"RM\""
   ]
  },
  {
   "cell_type": "code",
   "execution_count": 20,
   "metadata": {
    "scrolled": false
   },
   "outputs": [
    {
     "data": {
      "image/png": "[encoded data removed]",
      "text/plain": [
       "<Figure size 432x288 with 1 Axes>"
      ]
     },
     "metadata": {
      "needs_background": "light"
     },
     "output_type": "display_data"
    }
   ],
   "source": [
    "# ch15_3_2b modified\n",
    "# Picture of \"Relationship between RM and Price\"\n",
    "\n",
    "import pandas as pd\n",
    "from sklearn import datasets\n",
    "from sklearn.linear_model import LinearRegression\n",
    "import matplotlib.pyplot as plt\n",
    "\n",
    "boston = datasets.load_boston()\n",
    "\n",
    "X = pd.DataFrame(boston.data, columns=boston.feature_names)\n",
    "target = pd.DataFrame(boston.target, columns=[\"MEDV\"])\n",
    "y = target[\"MEDV\"]\n",
    "\n",
    "lm = LinearRegression()\n",
    "lm.fit(X, y)\n",
    "\n",
    "plt.scatter(X.RM, y)\n",
    "plt.xlabel(\"Average numbwer of rooms per dwelling(RM)\")\n",
    "plt.ylabel(\"Housing Price(MEDV)\")\n",
    "plt.title(\"Relationship between RM and Price\")\n",
    "plt.show()"
   ]
  },
  {
   "cell_type": "code",
   "execution_count": 17,
   "metadata": {},
   "outputs": [
    {
     "name": "stdout",
     "output_type": "stream",
     "text": [
      "[30.00384338 25.02556238 30.56759672 28.60703649 27.94352423]\n"
     ]
    },
    {
     "data": {
      "image/png": "[encoded data removed]",
      "text/plain": [
       "<Figure size 432x288 with 1 Axes>"
      ]
     },
     "metadata": {
      "needs_background": "light"
     },
     "output_type": "display_data"
    }
   ],
   "source": [
    "# ch15_3_2c\n",
    "# depic \"Price vs Predicted Price\"\n",
    "\n",
    "import pandas as pd\n",
    "from sklearn import datasets\n",
    "from sklearn.linear_model import LinearRegression\n",
    "import matplotlib.pyplot as plt\n",
    "\n",
    "boston = datasets.load_boston()\n",
    "\n",
    "X = pd.DataFrame(boston.data, columns=boston.feature_names)\n",
    "target = pd.DataFrame(boston.target, columns=[\"MEDV\"])\n",
    "y = target[\"MEDV\"]\n",
    "\n",
    "lm = LinearRegression()\n",
    "lm.fit(X, y)\n",
    "\n",
    "predicted_price = lm.predict(X)\n",
    "print(predicted_price[0:5])\n",
    "\n",
    "plt.scatter(y, predicted_price)\n",
    "plt.xlabel(\"Price\")\n",
    "plt.ylabel(\"Predicted Price\")\n",
    "plt.title(\"Price vs Predicted Price\")\n",
    "plt.show()"
   ]
  },
  {
   "cell_type": "markdown",
   "metadata": {
    "collapsed": true
   },
   "source": [
    "## Training dataset & test dataset\n",
    "\n",
    "XTrain, XTest, yTrain, yTest = train_test_split(X, y, test_size=0.33, random_state=5)\n",
    "\n",
    "- test_size = 0.33   \n",
    "    - training data:67%, test data: 33%\n",
    "- random_state=5    \n",
    "    - random seed number"
   ]
  },
  {
   "cell_type": "code",
   "execution_count": 22,
   "metadata": {},
   "outputs": [
    {
     "data": {
      "image/png": "[encoded data removed]",
      "text/plain": [
       "<Figure size 432x288 with 1 Axes>"
      ]
     },
     "metadata": {
      "needs_background": "light"
     },
     "output_type": "display_data"
    }
   ],
   "source": [
    "# ch15_3_3\n",
    "# Price vs Predicted Price in test dataset\n",
    "\n",
    "import pandas as pd\n",
    "from sklearn import datasets\n",
    "from sklearn.linear_model import LinearRegression\n",
    "from sklearn.model_selection import train_test_split\n",
    "import matplotlib.pyplot as plt\n",
    "\n",
    "boston = datasets.load_boston()\n",
    "\n",
    "X = pd.DataFrame(boston.data, columns=boston.feature_names)\n",
    "target = pd.DataFrame(boston.target, columns=[\"MEDV\"])\n",
    "y = target[\"MEDV\"]\n",
    "\n",
    "XTrain, XTest, yTrain, yTest = train_test_split(X, y, test_size=0.33,\n",
    "                                                random_state=5)\n",
    "lm = LinearRegression()\n",
    "lm.fit(XTrain, yTrain)\n",
    "\n",
    "pred_test = lm.predict(XTest)\n",
    "\n",
    "plt.scatter(yTest, pred_test)\n",
    "plt.xlabel(\"Price\")\n",
    "plt.ylabel(\"Predicted Price\")\n",
    "plt.title(\"Price vs Predicted Price\")\n",
    "plt.show()"
   ]
  },
  {
   "cell_type": "markdown",
   "metadata": {},
   "source": [
    "### Performance of Prediction in Regression\n",
    "\n",
    "- MSE(Mean Squared Error)\n",
    "    - 預測時誤差的平方和的平均數\n",
    "    - (y-predicted_price) ** 2\n",
    "    - smaller is better\n",
    "- R-squared (Cofficient of Determination) 決定係數：告訴我們資料是如何符合迴歸線\n",
    "    - value: 0 ~ 1\n",
    "    - biger is better\n",
    "    - LinerRegression_object.score()"
   ]
  },
  {
   "cell_type": "code",
   "execution_count": 23,
   "metadata": {},
   "outputs": [
    {
     "name": "stdout",
     "output_type": "stream",
     "text": [
      "訓練資料的MSE: 19.54675847353467\n",
      "測試資料的MSE: 28.530458765974686\n",
      "訓練資料的R-squared: 0.7551332741779998\n",
      "測試資料的R-squared: 0.6956551656111596\n"
     ]
    }
   ],
   "source": [
    "# ch15_3_3a\n",
    "\n",
    "import pandas as pd\n",
    "import numpy as np\n",
    "from sklearn import datasets\n",
    "from sklearn.linear_model import LinearRegression\n",
    "from sklearn.model_selection import train_test_split\n",
    "\n",
    "boston = datasets.load_boston()\n",
    "\n",
    "X = pd.DataFrame(boston.data, columns=boston.feature_names)\n",
    "target = pd.DataFrame(boston.target, columns=[\"MEDV\"])\n",
    "y = target[\"MEDV\"]\n",
    "\n",
    "XTrain, XTest, yTrain, yTest = train_test_split(X, y, test_size=0.33,\n",
    "                                                random_state=5)\n",
    "lm = LinearRegression()\n",
    "lm.fit(XTrain, yTrain)\n",
    "\n",
    "pred_train = lm.predict(XTrain)\n",
    "pred_test = lm.predict(XTest)\n",
    "\n",
    "MSE_train = np.mean((yTrain-pred_train)**2)\n",
    "MSE_test = np.mean((yTest-pred_test)**2)\n",
    "print(\"訓練資料的MSE:\", MSE_train)\n",
    "print(\"測試資料的MSE:\", MSE_test)\n",
    "\n",
    "print(\"訓練資料的R-squared:\", lm.score(XTrain, yTrain))\n",
    "print(\"測試資料的R-squared:\", lm.score(XTest, yTest))\n",
    "\n"
   ]
  },
  {
   "cell_type": "code",
   "execution_count": 24,
   "metadata": {},
   "outputs": [
    {
     "name": "stdout",
     "output_type": "stream",
     "text": [
      "[30.00384338 25.02556238 30.56759672 28.60703649 27.94352423]\n",
      "MSE: 21.894831181729213\n",
      "R-squared: 0.7406426641094095\n"
     ]
    }
   ],
   "source": [
    "# ch15_3_3b\n",
    "\n",
    "import pandas as pd\n",
    "import numpy as np\n",
    "from sklearn import datasets\n",
    "from sklearn.linear_model import LinearRegression\n",
    "\n",
    "boston = datasets.load_boston()\n",
    "\n",
    "X = pd.DataFrame(boston.data, columns=boston.feature_names)\n",
    "target = pd.DataFrame(boston.target, columns=[\"MEDV\"])\n",
    "y = target[\"MEDV\"]\n",
    "\n",
    "lm = LinearRegression()\n",
    "lm.fit(X, y)\n",
    "\n",
    "predicted_price = lm.predict(X)\n",
    "print(predicted_price[0:5])\n",
    "\n",
    "MSE = np.mean((y-predicted_price)**2)\n",
    "print(\"MSE:\", MSE)\n",
    "print(\"R-squared:\", lm.score(X, y))"
   ]
  },
  {
   "cell_type": "code",
   "execution_count": null,
   "metadata": {},
   "outputs": [],
   "source": [
    "# ch15_3_4\n",
    "# plot of residual 殘差圖 to highlight outliers (異常值)\n",
    "# residual = y - predicted_y\n",
    "\n",
    "import pandas as pd\n",
    "from sklearn import datasets\n",
    "from sklearn.linear_model import LinearRegression\n",
    "from sklearn.model_selection import train_test_split\n",
    "import matplotlib.pyplot as plt\n",
    "\n",
    "boston = datasets.load_boston()\n",
    "\n",
    "X = pd.DataFrame(boston.data, columns=boston.feature_names)\n",
    "target = pd.DataFrame(boston.target, columns=[\"MEDV\"])\n",
    "y = target[\"MEDV\"]\n",
    "\n",
    "XTrain, XTest, yTrain, yTest = train_test_split(X, y, test_size=0.33,\n",
    "                                                random_state=5)\n",
    "lm = LinearRegression()\n",
    "lm.fit(XTrain, yTrain)\n",
    "\n",
    "pred_train = lm.predict(XTrain)\n",
    "pred_test = lm.predict(XTest)\n",
    "\n",
    "plt.scatter(pred_train, pred_train-yTrain,\n",
    "            c=\"b\", s=40, alpha=0.5, label=\"Training Data\")\n",
    "plt.scatter(pred_test, pred_test-yTest,\n",
    "            c=\"r\", s=40, label=\"Test Data\")\n",
    "plt.hlines(y=0, xmin=0, xmax=50)\n",
    "plt.title(\"Residual Plot\")\n",
    "plt.ylabel(\"Residual Value\")\n",
    "plt.legend()\n",
    "plt.show()"
   ]
  },
  {
   "cell_type": "markdown",
   "metadata": {},
   "source": [
    "## 邏輯迴歸 Logistic Regression\n",
    "\n",
    "- 主要應用是二元性資料，例如：男或女、成功或失敗、真或假等\n",
    "- Logistic迴歸和線性迴歸不同，它是在解決分類問題。\n",
    "- Logistic迴歸的作法和線性迴歸相同，只不過其結果需要使用logistic函數或稱sigmoid函數（即S函數）轉換成0~1之間的機率"
   ]
  },
  {
   "cell_type": "code",
   "execution_count": null,
   "metadata": {},
   "outputs": [],
   "source": [
    "# ch15_4_1\n",
    "\n",
    "import numpy as np\n",
    "import matplotlib.pyplot as plt\n",
    "\n",
    "t = np.arange(-6, 6, 0.1)\n",
    "S = 1/(1+(np.e**(-t)))\n",
    "\n",
    "plt.plot(t, S)\n",
    "plt.title(\"sigmoid function\")\n",
    "plt.show()"
   ]
  },
  {
   "cell_type": "code",
   "execution_count": null,
   "metadata": {},
   "outputs": [],
   "source": [
    "# ch15_4_2\n",
    "\n",
    "import numpy as np\n",
    "import matplotlib.pyplot as plt\n",
    "\n",
    "t = np.arange(-6, 6, 0.1)\n",
    "S = 1/(1+(np.e**(-t)))\n",
    "\n",
    "plt.plot(t, S)\n",
    "plt.title(\"sigmoid function\")\n",
    "plt.show()"
   ]
  },
  {
   "cell_type": "code",
   "execution_count": 34,
   "metadata": {},
   "outputs": [
    {
     "name": "stdout",
     "output_type": "stream",
     "text": [
      "<class 'pandas.core.frame.DataFrame'>\n",
      "RangeIndex: 1313 entries, 0 to 1312\n",
      "Data columns (total 7 columns):\n",
      "PassengerId    1313 non-null int64\n",
      "Name           1313 non-null object\n",
      "PClass         1313 non-null object\n",
      "Age            756 non-null float64\n",
      "Sex            1313 non-null object\n",
      "Survived       1313 non-null int64\n",
      "SexCode        1313 non-null int64\n",
      "dtypes: float64(1), int64(3), object(3)\n",
      "memory usage: 71.9+ KB\n",
      "None\n",
      "0    1\n",
      "1    0\n",
      "2    0\n",
      "3    0\n",
      "4    1\n",
      "Name: Survived, dtype: int64\n"
     ]
    },
    {
     "data": {
      "image/png": "[encoded data removed]",
      "text/plain": [
       "<Figure size 432x288 with 1 Axes>"
      ]
     },
     "metadata": {
      "needs_background": "light"
     },
     "output_type": "display_data"
    }
   ],
   "source": [
    "# 區分預測值後，繪出圖形， Lai\n",
    "\n",
    "import pandas as pd\n",
    "import numpy as np\n",
    "from sklearn import preprocessing, linear_model\n",
    "\n",
    "import matplotlib.pyplot as plt\n",
    "\n",
    "\n",
    "titanic = pd.read_csv(\"data/titanic.csv\")\n",
    "print(titanic.info())\n",
    "# 將年齡的空值填入年齡的中位數\n",
    "age_median = np.nanmedian(titanic[\"Age\"])\n",
    "new_age = np.where(titanic[\"Age\"].isnull(), \n",
    "                   age_median, titanic[\"Age\"])\n",
    "titanic[\"Age\"] = new_age\n",
    "# 轉換欄位值成為數值\n",
    "label_encoder = preprocessing.LabelEncoder()\n",
    "titanic[\"PClass\"] = label_encoder.fit_transform(titanic[\"PClass\"])\n",
    "\n",
    "X = pd.DataFrame([titanic[\"PClass\"], \n",
    "                  titanic[\"SexCode\"],\n",
    "                  titanic[\"Age\"]]).T\n",
    "y = titanic[\"Survived\"]\n",
    "\n",
    "alive = titanic[titanic[\"Survived\"] == 1]\n",
    "dead = titanic[titanic[\"Survived\"] == 0]\n",
    "print(titanic[\"Survived\"][:5])\n",
    "\n",
    "# red dashes, blue squares and green triangles\n",
    "plt.plot(alive[\"PClass\"] , alive[\"Age\"], \"b^\", \"--k\")\n",
    "plt.plot(dead[\"PClass\"] , dead[\"Age\"], \"go\", \"--k\")\n",
    "plt.show()"
   ]
  },
  {
   "cell_type": "code",
   "execution_count": null,
   "metadata": {},
   "outputs": [],
   "source": [
    "# ch15_4_2a\n",
    "\n",
    "import pandas as pd\n",
    "import numpy as np\n",
    "from sklearn import preprocessing, linear_model\n",
    "\n",
    "titanic = pd.read_csv(\"titanic.csv\")\n",
    "print(titanic.info())\n",
    "# 將年齡的空值填入年齡的中位數\n",
    "age_median = np.nanmedian(titanic[\"Age\"])\n",
    "new_age = np.where(titanic[\"Age\"].isnull(), \n",
    "                   age_median, titanic[\"Age\"])\n",
    "titanic[\"Age\"] = new_age\n",
    "# 轉換欄位值成為數值\n",
    "label_encoder = preprocessing.LabelEncoder()\n",
    "encoded_class = label_encoder.fit_transform(titanic[\"PClass\"])\n",
    "\n",
    "X = pd.DataFrame([encoded_class, \n",
    "                  titanic[\"SexCode\"],\n",
    "                  titanic[\"Age\"]]).T\n",
    "y = titanic[\"Survived\"]\n",
    "\n",
    "logistic = linear_model.LogisticRegression()\n",
    "logistic.fit(X, y)\n",
    "\n",
    "preds = logistic.predict(X)\n",
    "print(pd.crosstab(preds, titanic[\"Survived\"]))\n",
    "pd.crosstab(preds, titanic[\"Survived\"]).to_html(\"Ch15_4_2a.html\")\n",
    "\n",
    "print((804+265)/(804+185+59+265))\n",
    "print(logistic.score(X, y))\n"
   ]
  },
  {
   "cell_type": "code",
   "execution_count": null,
   "metadata": {},
   "outputs": [],
   "source": [
    "# ch15_4_2b\n",
    "\n",
    "import pandas as pd\n",
    "from sklearn import preprocessing, linear_model\n",
    "\n",
    "titanic = pd.read_csv(\"titanic.csv\")\n",
    "print(titanic.info())\n",
    "# 轉換欄位值成為數值\n",
    "label_encoder = preprocessing.LabelEncoder()\n",
    "encoded_class = label_encoder.fit_transform(titanic[\"PClass\"])\n",
    "\n",
    "X = pd.DataFrame([encoded_class, \n",
    "                  titanic[\"SexCode\"]]).T\n",
    "y = titanic[\"Survived\"]\n",
    "\n",
    "logistic = linear_model.LogisticRegression()\n",
    "logistic.fit(X, y)\n",
    "print(\"迴歸係數:\", logistic.coef_)\n",
    "print(\"截距:\", logistic.intercept_ )\n",
    "\n",
    "preds = logistic.predict(X)\n",
    "print(pd.crosstab(preds, titanic[\"Survived\"]))\n",
    "pd.crosstab(preds, titanic[\"Survived\"]).to_html(\"Ch15_4_2b.html\")\n",
    "\n",
    "print((840+228)/(840+222+23+228))\n",
    "print(logistic.score(X, y))"
   ]
  },
  {
   "cell_type": "code",
   "execution_count": null,
   "metadata": {},
   "outputs": [],
   "source": []
  },
  {
   "cell_type": "markdown",
   "metadata": {},
   "source": [
    "###  參考資料: \n",
    "- 陳允傑（2018）。Python資料科學與人工智慧應用實務 ch.13, 15\n",
    "- 邱皓政 量化研究法二"
   ]
  }
 ],
 "metadata": {
  "kernelspec": {
   "display_name": "Python 3",
   "language": "python",
   "name": "python3"
  },
  "language_info": {
   "codemirror_mode": {
    "name": "ipython",
    "version": 3
   },
   "file_extension": ".py",
   "mimetype": "text/x-python",
   "name": "python",
   "nbconvert_exporter": "python",
   "pygments_lexer": "ipython3",
   "version": "3.7.6"
  }
 },
 "nbformat": 4,
 "nbformat_minor": 2
}
