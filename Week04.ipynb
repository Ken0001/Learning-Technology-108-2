{
 "cells": [
  {
   "cell_type": "markdown",
   "metadata": {},
   "source": [
    "# HW2\n",
    "請寫一個程式可以輸入一個任意大小的矩陣，並具備以下功能：\n",
    "1. 改變矩陣形狀 2.矩陣相乘（若無法相乘輸出 fail）3.轉置矩陣 4.矩陣輸出 5.結束\n",
    "輸入：\n",
    "首先輸入矩陣的大小、矩陣中的值，最後重複輸入功能代號"
   ]
  },
  {
   "cell_type": "code",
   "execution_count": null,
   "metadata": {},
   "outputs": [
    {
     "name": "stdout",
     "output_type": "stream",
     "text": [
      "2 3\n",
      "1 2 3\n",
      "1 1 1\n",
      "request: 1\n",
      "(3, 2)\n",
      "request: 4\n",
      "[[1 2]\n",
      " [3 1]\n",
      " [1 1]]\n",
      "request: 4\n",
      "[[1 2]\n",
      " [3 1]\n",
      " [1 1]]\n",
      "request: 2\n",
      "3 2\n",
      "2 2 3\n",
      "1 1 1\n",
      "1 2\n",
      "fail\n",
      "request: 4\n",
      "[[1 2]\n",
      " [3 1]\n",
      " [1 1]]\n"
     ]
    }
   ],
   "source": [
    "import numpy as np\n",
    "row, col = int(),int()\n",
    "\n",
    "def reshape(arr):\n",
    "    arr = arr.reshape(arr.shape[1], arr.shape[0])\n",
    "    print(arr.shape)\n",
    "    return arr\n",
    "def multiple(arr):\n",
    "    b = getArr()\n",
    "    if arr.shape[1]!=b.shape[0]:\n",
    "        print(\"fail\")\n",
    "        return arr\n",
    "    else:\n",
    "        new = np.dot(arr, b)\n",
    "        return new\n",
    "def transpose(arr):\n",
    "    arr = arr.T\n",
    "    return arr\n",
    "def printArr(arr):\n",
    "    print(arr)\n",
    "    return arr\n",
    "def end(arr):\n",
    "    pass\n",
    "\n",
    "def getArr():\n",
    "    size = input()\n",
    "    row = int(size.split(\" \")[0])\n",
    "    col = int(size.split(\" \")[1])\n",
    "    arr = []\n",
    "    for i in range(row):\n",
    "        col_val = input()\n",
    "        arr.append([int(num) for num in col_val.split(\" \")])\n",
    "\n",
    "    a = np.array(arr)\n",
    "    return a\n",
    "\n",
    "switch={\n",
    "    1: reshape,\n",
    "    2: multiple,\n",
    "    3: transpose,\n",
    "    4: printArr,\n",
    "    5: end\n",
    "}\n",
    "\n",
    "a = getArr()\n",
    "request = 0\n",
    "while request!=5:\n",
    "    request = int(input(\"request: \"))\n",
    "    a = switch[request](a)\n"
   ]
  },
  {
   "cell_type": "code",
   "execution_count": 10,
   "metadata": {},
   "outputs": [
    {
     "name": "stdout",
     "output_type": "stream",
     "text": [
      "[[1 2 3]]\n",
      "[[1]\n",
      " [2]\n",
      " [3]]\n"
     ]
    }
   ],
   "source": [
    "\n",
    "\n",
    "print(a)\n",
    "\n",
    "arr = a\n",
    "a = arr.reshape(arr.shape[1], arr.shape[0])\n",
    "print(a)"
   ]
  },
  {
   "cell_type": "code",
   "execution_count": null,
   "metadata": {},
   "outputs": [],
   "source": []
  }
 ],
 "metadata": {
  "kernelspec": {
   "display_name": "Python 3",
   "language": "python",
   "name": "python3"
  },
  "language_info": {
   "codemirror_mode": {
    "name": "ipython",
    "version": 3
   },
   "file_extension": ".py",
   "mimetype": "text/x-python",
   "name": "python",
   "nbconvert_exporter": "python",
   "pygments_lexer": "ipython3",
   "version": "3.7.4"
  }
 },
 "nbformat": 4,
 "nbformat_minor": 2
}
