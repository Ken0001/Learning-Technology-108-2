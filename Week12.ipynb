{
 "cells": [
  {
   "cell_type": "code",
   "execution_count": 4,
   "metadata": {},
   "outputs": [
    {
     "name": "stdout",
     "output_type": "stream",
     "text": [
      "      CRIM    ZN  INDUS  CHAS    NOX     RM   AGE     DIS  RAD    TAX  \\\n",
      "0  0.00632  18.0   2.31   0.0  0.538  6.575  65.2  4.0900  1.0  296.0   \n",
      "1  0.02731   0.0   7.07   0.0  0.469  6.421  78.9  4.9671  2.0  242.0   \n",
      "2  0.02729   0.0   7.07   0.0  0.469  7.185  61.1  4.9671  2.0  242.0   \n",
      "3  0.03237   0.0   2.18   0.0  0.458  6.998  45.8  6.0622  3.0  222.0   \n",
      "4  0.06905   0.0   2.18   0.0  0.458  7.147  54.2  6.0622  3.0  222.0   \n",
      "\n",
      "   PTRATIO       B  LSTAT  \n",
      "0     15.3  396.90   4.98  \n",
      "1     17.8  396.90   9.14  \n",
      "2     17.8  392.83   4.03  \n",
      "3     18.7  394.63   2.94  \n",
      "4     18.7  396.90   5.33  \n"
     ]
    }
   ],
   "source": [
    "### Week12\n",
    "import pandas as pd\n",
    "from sklearn import datasets\n",
    "boston = datasets.load_boston()\n",
    "\n",
    "X = pd.DataFrame(boston.data, columns=boston.feature_names)\n",
    "print(X.head())"
   ]
  },
  {
   "cell_type": "code",
   "execution_count": 6,
   "metadata": {},
   "outputs": [
    {
     "name": "stdout",
     "output_type": "stream",
     "text": [
      "target:\n",
      "\n",
      "\n",
      "   MEDV\n",
      "0  24.0\n",
      "1  21.6\n",
      "2  34.7\n",
      "3  33.4\n",
      "4  36.2\n"
     ]
    }
   ],
   "source": [
    "target = pd.DataFrame(boston.target, columns=[\"MEDV\"])\n",
    "print('target:', '\\n', target.head(), sep='\\n')"
   ]
  },
  {
   "cell_type": "code",
   "execution_count": 28,
   "metadata": {},
   "outputs": [
    {
     "name": "stdout",
     "output_type": "stream",
     "text": [
      "CRIM 與房價的共變異數: -1.5952105688210944e-14\n",
      "ZN 與房價的共變異數: 5.909019430985181e-14\n",
      "INDUS 與房價的共變異數: -7.302020209392334e-15\n",
      "CHAS 與房價的共變異數: 2.0308743707372428e-15\n",
      "NOX 與房價的共變異數: -4.2653627665440797e-16\n",
      "RM 與房價的共變異數: 1.6956133467002392e-15\n",
      "AGE 與房價的共變異數: 5.055244760348539e-14\n",
      "DIS 與房價的共變異數: 1.8957167851307022e-14\n",
      "RAD 與房價的共變異數: 3.8240118142725393e-13\n",
      "TAX 與房價的共變異數: 4.3461624286303175e-12\n",
      "PTRATIO 與房價的共變異數: 3.437566437037006e-14\n",
      "B 與房價的共變異數: -1.6356525269038827e-13\n",
      "LSTAT 與房價的共變異數: -3.0331468562091235e-14\n"
     ]
    }
   ],
   "source": [
    "### covariance\n",
    "col = ['CRIM','ZN','INDUS','CHAS','NOX','RM','AGE','DIS','RAD','TAX','PTRATIO','B','LSTAT']\n",
    "y = target.to_numpy()\n",
    "y_mean = y.mean()\n",
    "n = len(y)\n",
    "for i in col:\n",
    "    x = X[i].to_numpy()\n",
    "    x_mean = x.mean()\n",
    "    diff = (x-x_mean)*(y-y_mean)\n",
    "    covar = diff.sum()/n\n",
    "    print(i,\"與房價的共變異數:\", covar)\n"
   ]
  },
  {
   "cell_type": "code",
   "execution_count": 24,
   "metadata": {},
   "outputs": [
    {
     "name": "stdout",
     "output_type": "stream",
     "text": [
      "迴歸係數: [-1.08011358e-01  4.64204584e-02  2.05586264e-02  2.68673382e+00\n",
      " -1.77666112e+01  3.80986521e+00  6.92224640e-04 -1.47556685e+00\n",
      "  3.06049479e-01 -1.23345939e-02 -9.52747232e-01  9.31168327e-03\n",
      " -5.24758378e-01]\n",
      "截距: 36.459488385089855\n",
      "\n",
      "迴歸係數:\n",
      "   features  estimated Coefficients\n",
      "0      CRIM               -0.108011\n",
      "1        ZN                0.046420\n",
      "2     INDUS                0.020559\n",
      "3      CHAS                2.686734\n",
      "4       NOX              -17.766611\n",
      "5        RM                3.809865\n",
      "6       AGE                0.000692\n",
      "7       DIS               -1.475567\n",
      "8       RAD                0.306049\n",
      "9       TAX               -0.012335\n",
      "10  PTRATIO               -0.952747\n",
      "11        B                0.009312\n",
      "12    LSTAT               -0.524758\n"
     ]
    }
   ],
   "source": [
    "### correlation coefficients\n",
    "from sklearn.linear_model import LinearRegression\n",
    "\n",
    "x = pd.DataFrame(boston.data, columns=boston.feature_names)\n",
    "target = pd.DataFrame(boston.target, columns=[\"MEDV\"])\n",
    "y = target[\"MEDV\"]\n",
    "\n",
    "lm = LinearRegression()\n",
    "lm.fit(x, y)\n",
    "print(\"迴歸係數:\", lm.coef_)\n",
    "print(\"截距:\", lm.intercept_ )\n",
    "\n",
    "coef = pd.DataFrame(boston.feature_names, columns=[\"features\"])\n",
    "coef[\"estimated Coefficients\"] = lm.coef_\n",
    "print(\"\\n迴歸係數:\", coef, sep = '\\n')"
   ]
  },
  {
   "cell_type": "code",
   "execution_count": null,
   "metadata": {},
   "outputs": [],
   "source": []
  }
 ],
 "metadata": {
  "kernelspec": {
   "display_name": "Python 3",
   "language": "python",
   "name": "python3"
  },
  "language_info": {
   "codemirror_mode": {
    "name": "ipython",
    "version": 3
   },
   "file_extension": ".py",
   "mimetype": "text/x-python",
   "name": "python",
   "nbconvert_exporter": "python",
   "pygments_lexer": "ipython3",
   "version": "3.7.6"
  }
 },
 "nbformat": 4,
 "nbformat_minor": 4
}
